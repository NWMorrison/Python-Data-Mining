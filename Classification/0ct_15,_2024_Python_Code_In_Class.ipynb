{
  "nbformat": 4,
  "nbformat_minor": 0,
  "metadata": {
    "colab": {
      "provenance": []
    },
    "kernelspec": {
      "name": "python3",
      "display_name": "Python 3"
    },
    "language_info": {
      "name": "python"
    }
  },
  "cells": [
    {
      "cell_type": "code",
      "execution_count": 1,
      "metadata": {
        "id": "vE34h5jhECic"
      },
      "outputs": [],
      "source": [
        "# knn intro practice\n",
        "import matplotlib.pyplot as plt\n",
        "import numpy as np\n",
        "data = np.array(\n",
        "[\n",
        "[0.2, 0.2],\n",
        "[.3,.7],\n",
        "[.9,.8],\n",
        "[.6,1],\n",
        "[.2,.5],\n",
        "[.7,.5]\n",
        "])\n",
        "labels= np.array([3,1,2,2,1,2])\n",
        "test = [0.2, 0.6]"
      ]
    },
    {
      "cell_type": "code",
      "source": [
        "# plot the points with c or color for labels\n",
        "plt.scatter(data[:,0],data[:,1], c=labels)\n",
        "# now plot the test point = the point we want to classify\n",
        "plt.plot(test[0],test[1],'rx')\n",
        "# what is the label of the test point (marked as \"x\" on the plot)?\n",
        "# based on 1-NN?\n",
        "# on 3-NN? majority vote"
      ],
      "metadata": {
        "colab": {
          "base_uri": "https://localhost:8080/",
          "height": 468
        },
        "id": "TIlYW_aCELzE",
        "outputId": "acab2a08-776d-488d-eaad-d918beee930a"
      },
      "execution_count": 2,
      "outputs": [
        {
          "output_type": "execute_result",
          "data": {
            "text/plain": [
              "[<matplotlib.lines.Line2D at 0x7fa762ec1de0>]"
            ]
          },
          "metadata": {},
          "execution_count": 2
        },
        {
          "output_type": "display_data",
          "data": {
            "text/plain": [
              "<Figure size 640x480 with 1 Axes>"
            ],
            "image/png": "[encoded data removed]"
          },
          "metadata": {}
        }
      ]
    },
    {
      "cell_type": "code",
      "source": [
        "######################################\n",
        "# different cell for later...\n",
        "# 2 - scikit learn knn\n",
        "from sklearn.neighbors import KNeighborsClassifier\n",
        "neigh = KNeighborsClassifier(n_neighbors=6)\n",
        "# what kind of parameters are expected here?\n",
        "# https://scikit-learn.org/stable/modules/generated/sklearn.neighbors.KNeighborsClassifier.html\n",
        "neigh.fit(data, labels)\n",
        "# the predict expects a 2-d array so I had to put the test array into\n",
        "print(neigh.predict([test] ) )"
      ],
      "metadata": {
        "colab": {
          "base_uri": "https://localhost:8080/"
        },
        "id": "juoQVa_SFsbz",
        "outputId": "631376f1-2da0-4dfc-d524-5ec8672fdf1e"
      },
      "execution_count": 3,
      "outputs": [
        {
          "output_type": "stream",
          "name": "stdout",
          "text": [
            "[2]\n"
          ]
        }
      ]
    },
    {
      "cell_type": "code",
      "source": [],
      "metadata": {
        "id": "evvDlogjIu-Y"
      },
      "execution_count": null,
      "outputs": []
    }
  ]
}